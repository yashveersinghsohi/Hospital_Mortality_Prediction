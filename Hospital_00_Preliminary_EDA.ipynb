{
  "nbformat": 4,
  "nbformat_minor": 0,
  "metadata": {
    "colab": {
      "name": "Hospital_00_Preliminary_EDA.ipynb",
      "provenance": [],
      "authorship_tag": "ABX9TyMyBsPxPTP1giKSrk82z8T9",
      "include_colab_link": true
    },
    "kernelspec": {
      "name": "python3",
      "display_name": "Python 3"
    },
    "language_info": {
      "name": "python"
    }
  },
  "cells": [
    {
      "cell_type": "markdown",
      "metadata": {
        "id": "view-in-github",
        "colab_type": "text"
      },
      "source": [
        "<a href=\"https://colab.research.google.com/github/yashveersinghsohi/Hospital_Mortality_Prediction/blob/master/Hospital_00_Preliminary_EDA.ipynb\" target=\"_parent\"><img src=\"https://colab.research.google.com/assets/colab-badge.svg\" alt=\"Open In Colab\"/></a>"
      ]
    },
    {
      "cell_type": "markdown",
      "metadata": {
        "id": "lSzxEK7QSHcL"
      },
      "source": [
        "# Importing Packages"
      ]
    },
    {
      "cell_type": "code",
      "metadata": {
        "id": "SAwX_XOjSDNM"
      },
      "source": [
        "import pandas as pd\n",
        "import numpy as np\n",
        "import matplotlib.pyplot as plt\n",
        "import seaborn as sns\n",
        "\n",
        "from sklearn.impute import SimpleImputer\n",
        "from sklearn.model_selection import train_test_split"
      ],
      "execution_count": 1,
      "outputs": []
    },
    {
      "cell_type": "markdown",
      "metadata": {
        "id": "XNMvFyQzTxLx"
      },
      "source": [
        "# Reading Dataset"
      ]
    },
    {
      "cell_type": "code",
      "metadata": {
        "id": "1hz_PcJATySb"
      },
      "source": [
        "data_path = \"https://raw.githubusercontent.com/yashveersinghsohi/Hospital_Mortality_Prediction/master/Data/data.csv\"\n",
        "data = pd.read_csv(data_path)\n",
        "data_copy = data.copy()"
      ],
      "execution_count": 2,
      "outputs": []
    },
    {
      "cell_type": "code",
      "metadata": {
        "id": "DfpNeyG9UG6X",
        "outputId": "825e7241-49a0-49a6-a64a-0808bbb205c5",
        "colab": {
          "base_uri": "https://localhost:8080/",
          "height": 295
        }
      },
      "source": [
        "# There is not much insight to gather from this feature\n",
        "data = data.drop([\"ID\"], axis=1)\n",
        "\n",
        "print(\"Data shape - \", data.shape)\n",
        "data.head()"
      ],
      "execution_count": 3,
      "outputs": [
        {
          "output_type": "stream",
          "name": "stdout",
          "text": [
            "Data shape -  (1177, 50)\n"
          ]
        },
        {
          "output_type": "execute_result",
          "data": {
            "text/html": [
              "<div>\n",
              "<style scoped>\n",
              "    .dataframe tbody tr th:only-of-type {\n",
              "        vertical-align: middle;\n",
              "    }\n",
              "\n",
              "    .dataframe tbody tr th {\n",
              "        vertical-align: top;\n",
              "    }\n",
              "\n",
              "    .dataframe thead th {\n",
              "        text-align: right;\n",
              "    }\n",
              "</style>\n",
              "<table border=\"1\" class=\"dataframe\">\n",
              "  <thead>\n",
              "    <tr style=\"text-align: right;\">\n",
              "      <th></th>\n",
              "      <th>group</th>\n",
              "      <th>outcome</th>\n",
              "      <th>age</th>\n",
              "      <th>gendera</th>\n",
              "      <th>BMI</th>\n",
              "      <th>hypertensive</th>\n",
              "      <th>atrialfibrillation</th>\n",
              "      <th>CHD with no MI</th>\n",
              "      <th>diabetes</th>\n",
              "      <th>deficiencyanemias</th>\n",
              "      <th>depression</th>\n",
              "      <th>Hyperlipemia</th>\n",
              "      <th>Renal failure</th>\n",
              "      <th>COPD</th>\n",
              "      <th>heart rate</th>\n",
              "      <th>Systolic blood pressure</th>\n",
              "      <th>Diastolic blood pressure</th>\n",
              "      <th>Respiratory rate</th>\n",
              "      <th>temperature</th>\n",
              "      <th>SP O2</th>\n",
              "      <th>Urine output</th>\n",
              "      <th>hematocrit</th>\n",
              "      <th>RBC</th>\n",
              "      <th>MCH</th>\n",
              "      <th>MCHC</th>\n",
              "      <th>MCV</th>\n",
              "      <th>RDW</th>\n",
              "      <th>Leucocyte</th>\n",
              "      <th>Platelets</th>\n",
              "      <th>Neutrophils</th>\n",
              "      <th>Basophils</th>\n",
              "      <th>Lymphocyte</th>\n",
              "      <th>PT</th>\n",
              "      <th>INR</th>\n",
              "      <th>NT-proBNP</th>\n",
              "      <th>Creatine kinase</th>\n",
              "      <th>Creatinine</th>\n",
              "      <th>Urea nitrogen</th>\n",
              "      <th>glucose</th>\n",
              "      <th>Blood potassium</th>\n",
              "      <th>Blood sodium</th>\n",
              "      <th>Blood calcium</th>\n",
              "      <th>Chloride</th>\n",
              "      <th>Anion gap</th>\n",
              "      <th>Magnesium ion</th>\n",
              "      <th>PH</th>\n",
              "      <th>Bicarbonate</th>\n",
              "      <th>Lactic acid</th>\n",
              "      <th>PCO2</th>\n",
              "      <th>EF</th>\n",
              "    </tr>\n",
              "  </thead>\n",
              "  <tbody>\n",
              "    <tr>\n",
              "      <th>0</th>\n",
              "      <td>1</td>\n",
              "      <td>0.0</td>\n",
              "      <td>72</td>\n",
              "      <td>1</td>\n",
              "      <td>37.588179</td>\n",
              "      <td>0</td>\n",
              "      <td>0</td>\n",
              "      <td>0</td>\n",
              "      <td>1</td>\n",
              "      <td>1</td>\n",
              "      <td>0</td>\n",
              "      <td>1</td>\n",
              "      <td>1</td>\n",
              "      <td>0</td>\n",
              "      <td>68.837838</td>\n",
              "      <td>155.866667</td>\n",
              "      <td>68.333333</td>\n",
              "      <td>16.621622</td>\n",
              "      <td>36.714286</td>\n",
              "      <td>98.394737</td>\n",
              "      <td>2155.0</td>\n",
              "      <td>26.272727</td>\n",
              "      <td>2.960000</td>\n",
              "      <td>28.250000</td>\n",
              "      <td>31.520000</td>\n",
              "      <td>89.900</td>\n",
              "      <td>16.220000</td>\n",
              "      <td>7.650000</td>\n",
              "      <td>305.100</td>\n",
              "      <td>74.65</td>\n",
              "      <td>0.40</td>\n",
              "      <td>13.3</td>\n",
              "      <td>10.600000</td>\n",
              "      <td>1.000000</td>\n",
              "      <td>1956.0</td>\n",
              "      <td>148.000000</td>\n",
              "      <td>1.958333</td>\n",
              "      <td>50.000000</td>\n",
              "      <td>114.636364</td>\n",
              "      <td>4.816667</td>\n",
              "      <td>138.750000</td>\n",
              "      <td>7.463636</td>\n",
              "      <td>109.166667</td>\n",
              "      <td>13.166667</td>\n",
              "      <td>2.618182</td>\n",
              "      <td>7.230</td>\n",
              "      <td>21.166667</td>\n",
              "      <td>0.5</td>\n",
              "      <td>40.0</td>\n",
              "      <td>55</td>\n",
              "    </tr>\n",
              "    <tr>\n",
              "      <th>1</th>\n",
              "      <td>1</td>\n",
              "      <td>0.0</td>\n",
              "      <td>75</td>\n",
              "      <td>2</td>\n",
              "      <td>NaN</td>\n",
              "      <td>0</td>\n",
              "      <td>0</td>\n",
              "      <td>0</td>\n",
              "      <td>0</td>\n",
              "      <td>1</td>\n",
              "      <td>0</td>\n",
              "      <td>0</td>\n",
              "      <td>0</td>\n",
              "      <td>1</td>\n",
              "      <td>101.370370</td>\n",
              "      <td>140.000000</td>\n",
              "      <td>65.000000</td>\n",
              "      <td>20.851852</td>\n",
              "      <td>36.682540</td>\n",
              "      <td>96.923077</td>\n",
              "      <td>1425.0</td>\n",
              "      <td>30.780000</td>\n",
              "      <td>3.138000</td>\n",
              "      <td>31.060000</td>\n",
              "      <td>31.660000</td>\n",
              "      <td>98.200</td>\n",
              "      <td>14.260000</td>\n",
              "      <td>12.740000</td>\n",
              "      <td>246.400</td>\n",
              "      <td>NaN</td>\n",
              "      <td>NaN</td>\n",
              "      <td>NaN</td>\n",
              "      <td>NaN</td>\n",
              "      <td>NaN</td>\n",
              "      <td>2384.0</td>\n",
              "      <td>60.600000</td>\n",
              "      <td>1.122222</td>\n",
              "      <td>20.333333</td>\n",
              "      <td>147.500000</td>\n",
              "      <td>4.450000</td>\n",
              "      <td>138.888889</td>\n",
              "      <td>8.162500</td>\n",
              "      <td>98.444444</td>\n",
              "      <td>11.444444</td>\n",
              "      <td>1.887500</td>\n",
              "      <td>7.225</td>\n",
              "      <td>33.444444</td>\n",
              "      <td>0.5</td>\n",
              "      <td>78.0</td>\n",
              "      <td>55</td>\n",
              "    </tr>\n",
              "    <tr>\n",
              "      <th>2</th>\n",
              "      <td>1</td>\n",
              "      <td>0.0</td>\n",
              "      <td>83</td>\n",
              "      <td>2</td>\n",
              "      <td>26.572634</td>\n",
              "      <td>0</td>\n",
              "      <td>0</td>\n",
              "      <td>0</td>\n",
              "      <td>0</td>\n",
              "      <td>1</td>\n",
              "      <td>0</td>\n",
              "      <td>0</td>\n",
              "      <td>1</td>\n",
              "      <td>0</td>\n",
              "      <td>72.318182</td>\n",
              "      <td>135.333333</td>\n",
              "      <td>61.375000</td>\n",
              "      <td>23.640000</td>\n",
              "      <td>36.453704</td>\n",
              "      <td>95.291667</td>\n",
              "      <td>2425.0</td>\n",
              "      <td>27.700000</td>\n",
              "      <td>2.620000</td>\n",
              "      <td>34.320000</td>\n",
              "      <td>31.300000</td>\n",
              "      <td>109.800</td>\n",
              "      <td>23.820000</td>\n",
              "      <td>5.480000</td>\n",
              "      <td>204.200</td>\n",
              "      <td>68.10</td>\n",
              "      <td>0.55</td>\n",
              "      <td>24.5</td>\n",
              "      <td>11.275000</td>\n",
              "      <td>0.950000</td>\n",
              "      <td>4081.0</td>\n",
              "      <td>16.000000</td>\n",
              "      <td>1.871429</td>\n",
              "      <td>33.857143</td>\n",
              "      <td>149.000000</td>\n",
              "      <td>5.825000</td>\n",
              "      <td>140.714286</td>\n",
              "      <td>8.266667</td>\n",
              "      <td>105.857143</td>\n",
              "      <td>10.000000</td>\n",
              "      <td>2.157143</td>\n",
              "      <td>7.268</td>\n",
              "      <td>30.571429</td>\n",
              "      <td>0.5</td>\n",
              "      <td>71.5</td>\n",
              "      <td>35</td>\n",
              "    </tr>\n",
              "    <tr>\n",
              "      <th>3</th>\n",
              "      <td>1</td>\n",
              "      <td>0.0</td>\n",
              "      <td>43</td>\n",
              "      <td>2</td>\n",
              "      <td>83.264629</td>\n",
              "      <td>0</td>\n",
              "      <td>0</td>\n",
              "      <td>0</td>\n",
              "      <td>0</td>\n",
              "      <td>0</td>\n",
              "      <td>0</td>\n",
              "      <td>0</td>\n",
              "      <td>0</td>\n",
              "      <td>0</td>\n",
              "      <td>94.500000</td>\n",
              "      <td>126.400000</td>\n",
              "      <td>73.200000</td>\n",
              "      <td>21.857143</td>\n",
              "      <td>36.287037</td>\n",
              "      <td>93.846154</td>\n",
              "      <td>8760.0</td>\n",
              "      <td>36.637500</td>\n",
              "      <td>4.277500</td>\n",
              "      <td>26.062500</td>\n",
              "      <td>30.412500</td>\n",
              "      <td>85.625</td>\n",
              "      <td>17.037500</td>\n",
              "      <td>8.225000</td>\n",
              "      <td>216.375</td>\n",
              "      <td>81.80</td>\n",
              "      <td>0.15</td>\n",
              "      <td>14.5</td>\n",
              "      <td>27.066667</td>\n",
              "      <td>2.666667</td>\n",
              "      <td>668.0</td>\n",
              "      <td>85.000000</td>\n",
              "      <td>0.585714</td>\n",
              "      <td>15.285714</td>\n",
              "      <td>128.250000</td>\n",
              "      <td>4.386667</td>\n",
              "      <td>138.500000</td>\n",
              "      <td>9.476923</td>\n",
              "      <td>92.071429</td>\n",
              "      <td>12.357143</td>\n",
              "      <td>1.942857</td>\n",
              "      <td>7.370</td>\n",
              "      <td>38.571429</td>\n",
              "      <td>0.6</td>\n",
              "      <td>75.0</td>\n",
              "      <td>55</td>\n",
              "    </tr>\n",
              "    <tr>\n",
              "      <th>4</th>\n",
              "      <td>1</td>\n",
              "      <td>0.0</td>\n",
              "      <td>75</td>\n",
              "      <td>2</td>\n",
              "      <td>31.824842</td>\n",
              "      <td>1</td>\n",
              "      <td>0</td>\n",
              "      <td>0</td>\n",
              "      <td>0</td>\n",
              "      <td>1</td>\n",
              "      <td>0</td>\n",
              "      <td>0</td>\n",
              "      <td>1</td>\n",
              "      <td>1</td>\n",
              "      <td>67.920000</td>\n",
              "      <td>156.560000</td>\n",
              "      <td>58.120000</td>\n",
              "      <td>21.360000</td>\n",
              "      <td>36.761905</td>\n",
              "      <td>99.280000</td>\n",
              "      <td>4455.0</td>\n",
              "      <td>29.933333</td>\n",
              "      <td>3.286667</td>\n",
              "      <td>30.666667</td>\n",
              "      <td>33.666667</td>\n",
              "      <td>91.000</td>\n",
              "      <td>16.266667</td>\n",
              "      <td>8.833333</td>\n",
              "      <td>251.000</td>\n",
              "      <td>NaN</td>\n",
              "      <td>NaN</td>\n",
              "      <td>NaN</td>\n",
              "      <td>NaN</td>\n",
              "      <td>NaN</td>\n",
              "      <td>30802.0</td>\n",
              "      <td>111.666667</td>\n",
              "      <td>1.950000</td>\n",
              "      <td>43.000000</td>\n",
              "      <td>145.750000</td>\n",
              "      <td>4.783333</td>\n",
              "      <td>136.666667</td>\n",
              "      <td>8.733333</td>\n",
              "      <td>104.500000</td>\n",
              "      <td>15.166667</td>\n",
              "      <td>1.650000</td>\n",
              "      <td>7.250</td>\n",
              "      <td>22.000000</td>\n",
              "      <td>0.6</td>\n",
              "      <td>50.0</td>\n",
              "      <td>55</td>\n",
              "    </tr>\n",
              "  </tbody>\n",
              "</table>\n",
              "</div>"
            ],
            "text/plain": [
              "   group  outcome  age  gendera  ...  Bicarbonate  Lactic acid  PCO2  EF\n",
              "0      1      0.0   72        1  ...    21.166667          0.5  40.0  55\n",
              "1      1      0.0   75        2  ...    33.444444          0.5  78.0  55\n",
              "2      1      0.0   83        2  ...    30.571429          0.5  71.5  35\n",
              "3      1      0.0   43        2  ...    38.571429          0.6  75.0  55\n",
              "4      1      0.0   75        2  ...    22.000000          0.6  50.0  55\n",
              "\n",
              "[5 rows x 50 columns]"
            ]
          },
          "metadata": {},
          "execution_count": 3
        }
      ]
    },
    {
      "cell_type": "markdown",
      "metadata": {
        "id": "HGGnnu3r1T_L"
      },
      "source": [
        "Data types and number of not-null values of each column"
      ]
    },
    {
      "cell_type": "code",
      "metadata": {
        "id": "UdjLsn3VpuUK",
        "outputId": "7f3d972e-79ac-4300-8ff5-59ed81be61a9",
        "colab": {
          "base_uri": "https://localhost:8080/"
        }
      },
      "source": [
        "data.info()"
      ],
      "execution_count": 4,
      "outputs": [
        {
          "output_type": "stream",
          "name": "stdout",
          "text": [
            "<class 'pandas.core.frame.DataFrame'>\n",
            "RangeIndex: 1177 entries, 0 to 1176\n",
            "Data columns (total 50 columns):\n",
            " #   Column                    Non-Null Count  Dtype  \n",
            "---  ------                    --------------  -----  \n",
            " 0   group                     1177 non-null   int64  \n",
            " 1   outcome                   1176 non-null   float64\n",
            " 2   age                       1177 non-null   int64  \n",
            " 3   gendera                   1177 non-null   int64  \n",
            " 4   BMI                       962 non-null    float64\n",
            " 5   hypertensive              1177 non-null   int64  \n",
            " 6   atrialfibrillation        1177 non-null   int64  \n",
            " 7   CHD with no MI            1177 non-null   int64  \n",
            " 8   diabetes                  1177 non-null   int64  \n",
            " 9   deficiencyanemias         1177 non-null   int64  \n",
            " 10  depression                1177 non-null   int64  \n",
            " 11  Hyperlipemia              1177 non-null   int64  \n",
            " 12  Renal failure             1177 non-null   int64  \n",
            " 13  COPD                      1177 non-null   int64  \n",
            " 14  heart rate                1164 non-null   float64\n",
            " 15  Systolic blood pressure   1161 non-null   float64\n",
            " 16  Diastolic blood pressure  1161 non-null   float64\n",
            " 17  Respiratory rate          1164 non-null   float64\n",
            " 18  temperature               1158 non-null   float64\n",
            " 19  SP O2                     1164 non-null   float64\n",
            " 20  Urine output              1141 non-null   float64\n",
            " 21  hematocrit                1177 non-null   float64\n",
            " 22  RBC                       1177 non-null   float64\n",
            " 23  MCH                       1177 non-null   float64\n",
            " 24  MCHC                      1177 non-null   float64\n",
            " 25  MCV                       1177 non-null   float64\n",
            " 26  RDW                       1177 non-null   float64\n",
            " 27  Leucocyte                 1177 non-null   float64\n",
            " 28  Platelets                 1177 non-null   float64\n",
            " 29  Neutrophils               1033 non-null   float64\n",
            " 30  Basophils                 918 non-null    float64\n",
            " 31  Lymphocyte                1032 non-null   float64\n",
            " 32  PT                        1157 non-null   float64\n",
            " 33  INR                       1157 non-null   float64\n",
            " 34  NT-proBNP                 1177 non-null   float64\n",
            " 35  Creatine kinase           1012 non-null   float64\n",
            " 36  Creatinine                1177 non-null   float64\n",
            " 37  Urea nitrogen             1177 non-null   float64\n",
            " 38  glucose                   1159 non-null   float64\n",
            " 39  Blood potassium           1177 non-null   float64\n",
            " 40  Blood sodium              1177 non-null   float64\n",
            " 41  Blood calcium             1176 non-null   float64\n",
            " 42  Chloride                  1177 non-null   float64\n",
            " 43  Anion gap                 1177 non-null   float64\n",
            " 44  Magnesium ion             1177 non-null   float64\n",
            " 45  PH                        885 non-null    float64\n",
            " 46  Bicarbonate               1177 non-null   float64\n",
            " 47  Lactic acid               948 non-null    float64\n",
            " 48  PCO2                      883 non-null    float64\n",
            " 49  EF                        1177 non-null   int64  \n",
            "dtypes: float64(37), int64(13)\n",
            "memory usage: 459.9 KB\n"
          ]
        }
      ]
    },
    {
      "cell_type": "markdown",
      "metadata": {
        "id": "mSH9wnMS8UOg"
      },
      "source": [
        "# Train Test split"
      ]
    },
    {
      "cell_type": "code",
      "metadata": {
        "id": "ucca-qAE8UDy"
      },
      "source": [
        "train_val, test = train_test_split(data, test_size=0.1, random_state=42)\n",
        "train, val = train_test_split(train_val, test_size=0.1, random_state=42)"
      ],
      "execution_count": 5,
      "outputs": []
    },
    {
      "cell_type": "markdown",
      "metadata": {
        "id": "z9QH87fG0I_b"
      },
      "source": [
        "# Handling Missing Values"
      ]
    },
    {
      "cell_type": "markdown",
      "metadata": {
        "id": "QkF2CQNC4vvf"
      },
      "source": [
        "Absolute counts of null values"
      ]
    },
    {
      "cell_type": "code",
      "metadata": {
        "id": "ZwYRq4WB1wIj",
        "outputId": "66f8d051-5d41-4fd3-f5d3-60333276179b",
        "colab": {
          "base_uri": "https://localhost:8080/"
        }
      },
      "source": [
        "train.isna().sum()"
      ],
      "execution_count": 6,
      "outputs": [
        {
          "output_type": "execute_result",
          "data": {
            "text/plain": [
              "group                         0\n",
              "outcome                       1\n",
              "age                           0\n",
              "gendera                       0\n",
              "BMI                         167\n",
              "hypertensive                  0\n",
              "atrialfibrillation            0\n",
              "CHD with no MI                0\n",
              "diabetes                      0\n",
              "deficiencyanemias             0\n",
              "depression                    0\n",
              "Hyperlipemia                  0\n",
              "Renal failure                 0\n",
              "COPD                          0\n",
              "heart rate                   11\n",
              "Systolic blood pressure      13\n",
              "Diastolic blood pressure     13\n",
              "Respiratory rate             11\n",
              "temperature                  16\n",
              "SP O2                        11\n",
              "Urine output                 26\n",
              "hematocrit                    0\n",
              "RBC                           0\n",
              "MCH                           0\n",
              "MCHC                          0\n",
              "MCV                           0\n",
              "RDW                           0\n",
              "Leucocyte                     0\n",
              "Platelets                     0\n",
              "Neutrophils                 109\n",
              "Basophils                   204\n",
              "Lymphocyte                  110\n",
              "PT                           17\n",
              "INR                          17\n",
              "NT-proBNP                     0\n",
              "Creatine kinase             132\n",
              "Creatinine                    0\n",
              "Urea nitrogen                 0\n",
              "glucose                      15\n",
              "Blood potassium               0\n",
              "Blood sodium                  0\n",
              "Blood calcium                 1\n",
              "Chloride                      0\n",
              "Anion gap                     0\n",
              "Magnesium ion                 0\n",
              "PH                          236\n",
              "Bicarbonate                   0\n",
              "Lactic acid                 188\n",
              "PCO2                        233\n",
              "EF                            0\n",
              "dtype: int64"
            ]
          },
          "metadata": {},
          "execution_count": 6
        }
      ]
    },
    {
      "cell_type": "markdown",
      "metadata": {
        "id": "T7Uyotmy4y_b"
      },
      "source": [
        "%ages of null values and a barplot of the same for visualization"
      ]
    },
    {
      "cell_type": "code",
      "metadata": {
        "id": "QbdeHxrb1K2s",
        "outputId": "dbe5b74c-ad2e-4673-b4dc-0cc3ad384e85",
        "colab": {
          "base_uri": "https://localhost:8080/"
        }
      },
      "source": [
        "train_nans = ((train.isna().sum()/train.shape[0]) * 100).round(3)\n",
        "train_nans = train_nans[train_nans>0]\n",
        "train_nans.sort_values(ascending=False, inplace=True)\n",
        "train_nans"
      ],
      "execution_count": 7,
      "outputs": [
        {
          "output_type": "execute_result",
          "data": {
            "text/plain": [
              "PH                          24.764\n",
              "PCO2                        24.449\n",
              "Basophils                   21.406\n",
              "Lactic acid                 19.727\n",
              "BMI                         17.524\n",
              "Creatine kinase             13.851\n",
              "Lymphocyte                  11.542\n",
              "Neutrophils                 11.438\n",
              "Urine output                 2.728\n",
              "PT                           1.784\n",
              "INR                          1.784\n",
              "temperature                  1.679\n",
              "glucose                      1.574\n",
              "Diastolic blood pressure     1.364\n",
              "Systolic blood pressure      1.364\n",
              "SP O2                        1.154\n",
              "Respiratory rate             1.154\n",
              "heart rate                   1.154\n",
              "Blood calcium                0.105\n",
              "outcome                      0.105\n",
              "dtype: float64"
            ]
          },
          "metadata": {},
          "execution_count": 7
        }
      ]
    },
    {
      "cell_type": "code",
      "metadata": {
        "id": "avGNSHsKUKhC",
        "outputId": "769ac071-2bfc-42be-a0cb-d8bc3db681db",
        "colab": {
          "base_uri": "https://localhost:8080/",
          "height": 465
        }
      },
      "source": [
        "fig, ax = plt.subplots(figsize=(16, 5))\n",
        "train_nans.plot.bar(ax=ax)\n",
        "ax.set_xlabel(\"Columns with Null values\", size=12)\n",
        "ax.set_ylabel(\"%age of Null values\", size=12)\n",
        "ax.set_title(\"Bar plot showing %age of null values in each column\", size=15)\n",
        "plt.show()"
      ],
      "execution_count": 8,
      "outputs": [
        {
          "output_type": "display_data",
          "data": {
            "image/png": "[encoded data removed]",
            "text/plain": [
              "<Figure size 1152x360 with 1 Axes>"
            ]
          },
          "metadata": {
            "needs_background": "light"
          }
        }
      ]
    },
    {
      "cell_type": "markdown",
      "metadata": {
        "id": "M67f2Vke45Ff"
      },
      "source": [
        "**Approach used to remove null values**: \n",
        "- Since there is only one Null value in the target variable (`outcome`), let's remove that observation. \n",
        "- For the rest, let's impute them using mean imputation and add an extra column for each indicating that an imputation was done"
      ]
    },
    {
      "cell_type": "code",
      "metadata": {
        "id": "9mrzppzcpt3J",
        "outputId": "4f4a4d64-c5d3-423d-8a06-2b1101414f88",
        "colab": {
          "base_uri": "https://localhost:8080/"
        }
      },
      "source": [
        "# Removing Null observation in outcome\n",
        "train = train[-train[\"outcome\"].isna()]\n",
        "val = val[-val[\"outcome\"].isna()]\n",
        "test = test[-test[\"outcome\"].isna()]\n",
        "\n",
        "# Adding new columns where there were null values\n",
        "for col in train.loc[:, train.isna().sum()>0].columns:\n",
        "  new_col_name = col+\"_was_missing\"\n",
        "  train[new_col_name] = train[col].isna().astype(np.int)\n",
        "  val[new_col_name] = val[col].isna().astype(np.int)\n",
        "  test[new_col_name] = test[col].isna().astype(np.int)\n",
        "\n",
        "# Using mean imputation from SimpleImputer\n",
        "imputer = SimpleImputer(strategy=\"mean\")\n",
        "train = pd.DataFrame(\n",
        "    imputer.fit_transform(train), \n",
        "    columns=train.columns\n",
        "  )\n",
        "val = pd.DataFrame(\n",
        "    imputer.transform(val), \n",
        "    columns=val.columns\n",
        "  )\n",
        "test = pd.DataFrame(\n",
        "    imputer.transform(test), \n",
        "    columns=test.columns\n",
        "  )\n",
        "\n",
        "# Check if any null values are left in the train set\n",
        "print(\"Train Nulls - \", train.isna().to_numpy().flatten().sum())\n",
        "print(\"Val Nulls - \", val.isna().to_numpy().flatten().sum())\n",
        "print(\"Test Nulls - \", test.isna().to_numpy().flatten().sum())"
      ],
      "execution_count": 9,
      "outputs": [
        {
          "output_type": "stream",
          "name": "stdout",
          "text": [
            "Train Nulls -  0\n",
            "Val Nulls -  0\n",
            "Test Nulls -  0\n"
          ]
        }
      ]
    },
    {
      "cell_type": "code",
      "metadata": {
        "id": "th2Hs_4UA-cg",
        "outputId": "53154796-dd66-48bf-b1b1-696d9e9aa68f",
        "colab": {
          "base_uri": "https://localhost:8080/"
        }
      },
      "source": [
        "print(\"Train Shape - \", train.shape)\n",
        "print(\"Val Shape - \", val.shape)\n",
        "print(\"Test Shape - \", test.shape)"
      ],
      "execution_count": 10,
      "outputs": [
        {
          "output_type": "stream",
          "name": "stdout",
          "text": [
            "Train Shape -  (952, 69)\n",
            "Val Shape -  (106, 69)\n",
            "Test Shape -  (118, 69)\n"
          ]
        }
      ]
    },
    {
      "cell_type": "markdown",
      "metadata": {
        "id": "CwlZKUlzDBwD"
      },
      "source": [
        "# Target Distribution"
      ]
    },
    {
      "cell_type": "markdown",
      "metadata": {
        "id": "2XRTScOWGJGi"
      },
      "source": [
        "Looking at the target distribution both numerically and through histogram."
      ]
    },
    {
      "cell_type": "code",
      "metadata": {
        "id": "_05OVMaUEQAv",
        "outputId": "5db8bc0a-8cae-4f3d-be90-f7a8b4e9d8bc",
        "colab": {
          "base_uri": "https://localhost:8080/",
          "height": 112
        }
      },
      "source": [
        "value_counts = train[\"outcome\"].astype(np.int).value_counts()\n",
        "value_counts.index = [\"Alive\", \"Dead\"]\n",
        "pd.DataFrame({\n",
        "    \"Count\": value_counts,\n",
        "    \"%age\": ((value_counts/value_counts.sum()) * 100).round(3)\n",
        "})"
      ],
      "execution_count": 24,
      "outputs": [
        {
          "output_type": "execute_result",
          "data": {
            "text/html": [
              "<div>\n",
              "<style scoped>\n",
              "    .dataframe tbody tr th:only-of-type {\n",
              "        vertical-align: middle;\n",
              "    }\n",
              "\n",
              "    .dataframe tbody tr th {\n",
              "        vertical-align: top;\n",
              "    }\n",
              "\n",
              "    .dataframe thead th {\n",
              "        text-align: right;\n",
              "    }\n",
              "</style>\n",
              "<table border=\"1\" class=\"dataframe\">\n",
              "  <thead>\n",
              "    <tr style=\"text-align: right;\">\n",
              "      <th></th>\n",
              "      <th>Count</th>\n",
              "      <th>%age</th>\n",
              "    </tr>\n",
              "  </thead>\n",
              "  <tbody>\n",
              "    <tr>\n",
              "      <th>Alive</th>\n",
              "      <td>829</td>\n",
              "      <td>87.08</td>\n",
              "    </tr>\n",
              "    <tr>\n",
              "      <th>Dead</th>\n",
              "      <td>123</td>\n",
              "      <td>12.92</td>\n",
              "    </tr>\n",
              "  </tbody>\n",
              "</table>\n",
              "</div>"
            ],
            "text/plain": [
              "       Count   %age\n",
              "Alive    829  87.08\n",
              "Dead     123  12.92"
            ]
          },
          "metadata": {},
          "execution_count": 24
        }
      ]
    },
    {
      "cell_type": "code",
      "metadata": {
        "id": "KbZsFbF7DENi",
        "outputId": "daa5b97f-8b36-4a9d-db3d-e4a1671e76c7",
        "colab": {
          "base_uri": "https://localhost:8080/",
          "height": 300
        }
      },
      "source": [
        "fig, ax = plt.subplots(figsize=(6, 4))\n",
        "sns.histplot(data=train[[\"outcome\"]].astype(np.int), x=\"outcome\", )\n",
        "ax.set_xlabel(\"Outcome\", size=12)\n",
        "ax.set_ylabel(\"Count\", size=12)\n",
        "ax.set_title(\"Target Distribution\", size=15)\n",
        "ax.set_xticks(ticks=[0, 1])\n",
        "ax.set_xticklabels(labels=[\"Alive\", \"Dead\"])\n",
        "plt.show()"
      ],
      "execution_count": 25,
      "outputs": [
        {
          "output_type": "display_data",
          "data": {
            "image/png": "[encoded data removed]",
            "text/plain": [
              "<Figure size 432x288 with 1 Axes>"
            ]
          },
          "metadata": {
            "needs_background": "light"
          }
        }
      ]
    },
    {
      "cell_type": "markdown",
      "metadata": {
        "id": "ZFbSNQtmH7L8"
      },
      "source": [
        "# Exploring features"
      ]
    },
    {
      "cell_type": "markdown",
      "metadata": {
        "id": "M28EkEy_H_QD"
      },
      "source": [
        "## Demographic Characteristics"
      ]
    },
    {
      "cell_type": "code",
      "metadata": {
        "id": "SlbY5jXBD4JS"
      },
      "source": [
        ""
      ],
      "execution_count": null,
      "outputs": []
    }
  ]
}