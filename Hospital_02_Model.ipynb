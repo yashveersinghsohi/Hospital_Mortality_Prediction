{
  "nbformat": 4,
  "nbformat_minor": 0,
  "metadata": {
    "colab": {
      "name": "Hospital_02_Model.ipynb",
      "provenance": [],
      "authorship_tag": "ABX9TyMpHTvDfKXIeWVP8/9b1JmY",
      "include_colab_link": true
    },
    "kernelspec": {
      "name": "python3",
      "display_name": "Python 3"
    },
    "language_info": {
      "name": "python"
    }
  },
  "cells": [
    {
      "cell_type": "markdown",
      "metadata": {
        "id": "view-in-github",
        "colab_type": "text"
      },
      "source": [
        "<a href=\"https://colab.research.google.com/github/yashveersinghsohi/Hospital_Mortality_Prediction/blob/master/Hospital_02_Model.ipynb\" target=\"_parent\"><img src=\"https://colab.research.google.com/assets/colab-badge.svg\" alt=\"Open In Colab\"/></a>"
      ]
    },
    {
      "cell_type": "markdown",
      "metadata": {
        "id": "BlC8E1_GUiY7"
      },
      "source": [
        "# Importing Required Packages"
      ]
    },
    {
      "cell_type": "code",
      "metadata": {
        "id": "5VT1H9MBUgX9"
      },
      "source": [
        "import pandas as pd\n",
        "import numpy as np\n",
        "import matplotlib.pyplot as plt\n",
        "import seaborn as sns\n",
        "\n",
        "from sklearn.linear_model import LogisticRegression\n",
        "\n",
        "from sklearn.metrics import (\n",
        "    classification_report, \n",
        "    accuracy_score, \n",
        "    roc_curve, \n",
        "    roc_auc_score\n",
        ")"
      ],
      "execution_count": 1,
      "outputs": []
    },
    {
      "cell_type": "markdown",
      "metadata": {
        "id": "Gwn4IigOUwlX"
      },
      "source": [
        "# Reading datasets"
      ]
    },
    {
      "cell_type": "code",
      "metadata": {
        "id": "9ljasI5nUx_b"
      },
      "source": [
        "root_dir_path = \"https://raw.githubusercontent.com/yashveersinghsohi/Hospital_Mortality_Prediction/master/Data/\"\n",
        "\n",
        "data_path = root_dir_path + \"data.csv\"\n",
        "train_path = root_dir_path + \"train.csv\"\n",
        "val_path = root_dir_path + \"val.csv\"\n",
        "test_path = root_dir_path + \"test.csv\"\n",
        "\n",
        "train_features_path = root_dir_path + \"train_features.csv\"\n",
        "train_targets_path = root_dir_path + \"train_targets.csv\"\n",
        "\n",
        "val_features_path = root_dir_path + \"val_features.csv\"\n",
        "val_targets_path = root_dir_path + \"val_targets.csv\"\n",
        "\n",
        "test_features_path = root_dir_path + \"test_features.csv\"\n",
        "test_targets_path = root_dir_path + \"test_targets.csv\""
      ],
      "execution_count": 2,
      "outputs": []
    },
    {
      "cell_type": "code",
      "metadata": {
        "id": "ZgMQtlOvVDjz"
      },
      "source": [
        "data = pd.read_csv(data_path)\n",
        "train = pd.read_csv(train_path)\n",
        "val = pd.read_csv(val_path)\n",
        "test = pd.read_csv(test_path)\n",
        "\n",
        "train_features = pd.read_csv(train_features_path)\n",
        "train_targets = pd.read_csv(train_targets_path)\n",
        "\n",
        "val_features = pd.read_csv(val_features_path)\n",
        "val_targets = pd.read_csv(val_targets_path)\n",
        "\n",
        "test_features = pd.read_csv(test_features_path)\n",
        "test_targets = pd.read_csv(test_targets_path)"
      ],
      "execution_count": 3,
      "outputs": []
    },
    {
      "cell_type": "code",
      "metadata": {
        "id": "UsD_k5_1VQnu",
        "outputId": "d561991e-b6ee-4202-ef09-41e5191fa7e7",
        "colab": {
          "base_uri": "https://localhost:8080/"
        }
      },
      "source": [
        "print(\"Train features shape - \", train_features.shape)\n",
        "print(\"Train Targets shape - \", train_targets.shape, end=\"\\n\\n\")\n",
        "\n",
        "print(\"Val features shape - \", val_features.shape)\n",
        "print(\"Val Targets shape - \", val_targets.shape, end=\"\\n\\n\")\n",
        "\n",
        "print(\"Test features shape - \", test_features.shape)\n",
        "print(\"Test Targets shape - \", test_targets.shape)"
      ],
      "execution_count": 4,
      "outputs": [
        {
          "output_type": "stream",
          "name": "stdout",
          "text": [
            "Train features shape -  (952, 116)\n",
            "Train Targets shape -  (952, 1)\n",
            "\n",
            "Val features shape -  (106, 116)\n",
            "Val Targets shape -  (106, 1)\n",
            "\n",
            "Test features shape -  (118, 116)\n",
            "Test Targets shape -  (118, 1)\n"
          ]
        }
      ]
    },
    {
      "cell_type": "code",
      "metadata": {
        "id": "3f6farvSbp1B"
      },
      "source": [
        "demographic_cols = [\"BMI\", \"age\", \"gendera\", \"group\"]\n",
        "\n",
        "vitals_cols = [\n",
        "  \"heart rate\", \"Systolic blood pressure\", \"Diastolic blood pressure\", \n",
        "  \"Respiratory rate\", \"temperature\", \"SP O2\", \"Urine output\"\n",
        "]\n",
        "\n",
        "comorbid_cols = [\n",
        "  \"hypertensive\", \"atrialfibrillation\", \"diabetes\", \n",
        "  \"depression\", \"Hyperlipemia\", \"CHD with no MI\", \n",
        "  \"Renal failure\", \"COPD\", \"deficiencyanemias\"         \n",
        "]\n",
        "\n",
        "lab_cols = [\n",
        "  \"hematocrit\", \"RBC\", \"MCH\", \"MCHC\", \"MCV\", \"RDW\", \n",
        "  \"Leucocyte\", \"Platelets\", \"Neutrophils\", \"Basophils\", \n",
        "  \"Lymphocyte\", \"PT\", \"INR\", \"NT-proBNP\", \"Creatine kinase\", \n",
        "  \"Creatinine\", \"Urea nitrogen\", \"glucose\", \"Blood potassium\", \n",
        "  \"Blood sodium\", \"Blood calcium\", \"Chloride\", \"Anion gap\", \n",
        "  \"Magnesium ion\", \"PH\", \"Bicarbonate\", \"Lactic acid\", \"PCO2\", \"EF\"\n",
        "]\n",
        "\n",
        "target_cols = [\"outcome\"]\n",
        "\n",
        "missing_cols = [\n",
        "  \"BMI_was_missing\", \n",
        "  \"heart rate_was_missing\", \n",
        "  \"Systolic blood pressure_was_missing\", \n",
        "  \"Diastolic blood pressure_was_missing\",\n",
        "  \"Respiratory rate_was_missing\",\n",
        "  \"temperature_was_missing\",\n",
        "  \"SP O2_was_missing\",\n",
        "  \"Urine output_was_missing\",\n",
        "  \"Neutrophils_was_missing\",\n",
        "  \"Basophils_was_missing\",\n",
        "  \"Lymphocyte_was_missing\",\n",
        "  \"PT_was_missing\",\n",
        "  \"INR_was_missing\",\n",
        "  \"Creatine kinase_was_missing\",\n",
        "  \"glucose_was_missing\",\n",
        "  \"Blood calcium_was_missing\",\n",
        "  \"PH_was_missing\",\n",
        "  \"Lactic acid_was_missing\",\n",
        "  \"PCO2_was_missing\"\n",
        "]"
      ],
      "execution_count": 5,
      "outputs": []
    },
    {
      "cell_type": "code",
      "metadata": {
        "id": "dEirc71fdeWs"
      },
      "source": [
        "demographic_features = [\"BMI\", \"age\"]\n",
        "\n",
        "comorbid_features = [\n",
        "  \"hypertensive\", \"atrialfibrillation\", \"diabetes\", \n",
        "  \"depression\", \"Hyperlipemia\",  \"Renal failure\", \n",
        "  \"COPD\", \"deficiencyanemias\"         \n",
        "]\n",
        "\n",
        "lab_features = [\n",
        "  \"hematocrit\", \"RBC\", \"MCH\", \"MCHC\", \"MCV\", \"RDW\", \n",
        "  \"Leucocyte\", \"Platelets\", \"Neutrophils\", \"Basophils\", \n",
        "  \"Lymphocyte\", \"PT\", \"INR\", \"NT-proBNP\", \"Creatine kinase\", \n",
        "  \"Creatinine\", \"Urea nitrogen\", \"glucose\", \"Blood potassium\", \n",
        "  \"Blood sodium\", \"Blood calcium\", \"Chloride\", \"Anion gap\", \n",
        "  \"Magnesium ion\", \"PH\", \"Bicarbonate\", \"Lactic acid\", \"PCO2\", \"EF\"\n",
        "]\n",
        "\n",
        "missing_features = [\n",
        "  \"BMI_was_missing\", \n",
        "  \"heart rate_was_missing\", \n",
        "  \"Systolic blood pressure_was_missing\", \n",
        "  \"Diastolic blood pressure_was_missing\",\n",
        "  \"Respiratory rate_was_missing\",\n",
        "  \"temperature_was_missing\",\n",
        "  \"SP O2_was_missing\",\n",
        "  \"Urine output_was_missing\",\n",
        "  \"Neutrophils_was_missing\",\n",
        "  \"Basophils_was_missing\",\n",
        "  \"Lymphocyte_was_missing\",\n",
        "  \"PT_was_missing\",\n",
        "  \"INR_was_missing\",\n",
        "  \"Creatine kinase_was_missing\",\n",
        "  \"glucose_was_missing\",\n",
        "  \"Blood calcium_was_missing\",\n",
        "  \"PH_was_missing\",\n",
        "  \"Lactic acid_was_missing\",\n",
        "  \"PCO2_was_missing\"\n",
        "]"
      ],
      "execution_count": 6,
      "outputs": []
    },
    {
      "cell_type": "markdown",
      "metadata": {
        "id": "dNFN4jQ2V0ql"
      },
      "source": [
        "# Logistic Regression"
      ]
    },
    {
      "cell_type": "markdown",
      "metadata": {
        "id": "p_chDeBpWt6Z"
      },
      "source": [
        "Model"
      ]
    },
    {
      "cell_type": "code",
      "metadata": {
        "id": "tMq3bg8EV2VM",
        "outputId": "353fde7c-6174-4312-f4c4-46e05f87e9d2",
        "colab": {
          "base_uri": "https://localhost:8080/"
        }
      },
      "source": [
        "log_reg = LogisticRegression(random_state=42, max_iter=5000)\n",
        "log_reg.fit(train_features, train_targets.to_numpy().ravel())"
      ],
      "execution_count": 7,
      "outputs": [
        {
          "output_type": "stream",
          "name": "stderr",
          "text": [
            "/usr/local/lib/python3.7/dist-packages/sklearn/linear_model/_logistic.py:940: ConvergenceWarning: lbfgs failed to converge (status=1):\n",
            "STOP: TOTAL NO. of ITERATIONS REACHED LIMIT.\n",
            "\n",
            "Increase the number of iterations (max_iter) or scale the data as shown in:\n",
            "    https://scikit-learn.org/stable/modules/preprocessing.html\n",
            "Please also refer to the documentation for alternative solver options:\n",
            "    https://scikit-learn.org/stable/modules/linear_model.html#logistic-regression\n",
            "  extra_warning_msg=_LOGISTIC_SOLVER_CONVERGENCE_MSG)\n"
          ]
        },
        {
          "output_type": "execute_result",
          "data": {
            "text/plain": [
              "LogisticRegression(C=1.0, class_weight=None, dual=False, fit_intercept=True,\n",
              "                   intercept_scaling=1, l1_ratio=None, max_iter=5000,\n",
              "                   multi_class='auto', n_jobs=None, penalty='l2',\n",
              "                   random_state=42, solver='lbfgs', tol=0.0001, verbose=0,\n",
              "                   warm_start=False)"
            ]
          },
          "metadata": {},
          "execution_count": 7
        }
      ]
    },
    {
      "cell_type": "markdown",
      "metadata": {
        "id": "uKiYrsYHWuc2"
      },
      "source": [
        "Predictions"
      ]
    },
    {
      "cell_type": "code",
      "metadata": {
        "id": "NTrbUUy0WGrM"
      },
      "source": [
        "log_reg_train_preds = log_reg.predict(train_features)\n",
        "log_reg_val_preds = log_reg.predict(val_features)\n",
        "log_reg_test_preds = log_reg.predict(test_features)"
      ],
      "execution_count": 8,
      "outputs": []
    },
    {
      "cell_type": "markdown",
      "metadata": {
        "id": "6dypwGncWvZ_"
      },
      "source": [
        "Evaluation (Accuracy)"
      ]
    },
    {
      "cell_type": "code",
      "metadata": {
        "id": "RywbZyWZWwE5",
        "outputId": "d647b956-2ba3-4197-eccf-c6f027e4cd25",
        "colab": {
          "base_uri": "https://localhost:8080/"
        }
      },
      "source": [
        "log_reg_train_accuracy = accuracy_score(\n",
        "    y_true=train_targets.to_numpy().ravel(), y_pred=log_reg_train_preds\n",
        "  )\n",
        "print(\"Train Accuracy - \", round(log_reg_train_accuracy*100, 3))\n",
        "\n",
        "log_reg_val_accuracy = accuracy_score(\n",
        "    y_true=val_targets.to_numpy().ravel(), y_pred=log_reg_val_preds\n",
        "  )\n",
        "print(\"Val Accuracy - \", round(log_reg_val_accuracy*100, 3))\n",
        "\n",
        "log_reg_test_accuracy = accuracy_score(\n",
        "    y_true=test_targets.to_numpy().ravel(), y_pred=log_reg_test_preds\n",
        "  )\n",
        "print(\"Test Accuracy - \", round(log_reg_test_accuracy*100, 3))"
      ],
      "execution_count": 9,
      "outputs": [
        {
          "output_type": "stream",
          "name": "stdout",
          "text": [
            "Train Accuracy -  90.336\n",
            "Val Accuracy -  90.566\n",
            "Test Accuracy -  84.746\n"
          ]
        }
      ]
    },
    {
      "cell_type": "markdown",
      "metadata": {
        "id": "IFpquTd5aW57"
      },
      "source": [
        "# Analysing \"Healthy\" and \"Non-Healthy\" people"
      ]
    },
    {
      "cell_type": "markdown",
      "metadata": {
        "id": "AGzbQofuado9"
      },
      "source": [
        "- **Healthy**: People for whom the model predicts a probability of survival `>90%`\n",
        "- **Not Healthy**:  People for whom the model predicts a probability of survival `<10%`"
      ]
    },
    {
      "cell_type": "code",
      "metadata": {
        "id": "0uuRaayiZHhw"
      },
      "source": [
        "log_reg_train_proba = log_reg.predict_proba(train_features)\n",
        "p_survival = log_reg_train_proba[:, 0] # Probability of survival\n",
        "\n",
        "healthy = train_features[p_survival>0.95]\n",
        "not_healthy = train_features[p_survival<0.10]"
      ],
      "execution_count": 10,
      "outputs": []
    },
    {
      "cell_type": "code",
      "metadata": {
        "id": "ubZsPJFZdQX9",
        "outputId": "b093358a-a2db-4b2b-e85e-05b4dfe37e97",
        "colab": {
          "base_uri": "https://localhost:8080/",
          "height": 299
        }
      },
      "source": [
        "pd.DataFrame(\n",
        "    [\n",
        "     healthy[comorbid_features].mean(), \n",
        "     not_healthy[comorbid_features].mean()\n",
        "    ], \n",
        "    index=[\"Healthy\", \"Not_Healthy\"]\n",
        "  ).T.round(4)"
      ],
      "execution_count": 11,
      "outputs": [
        {
          "output_type": "execute_result",
          "data": {
            "text/html": [
              "<div>\n",
              "<style scoped>\n",
              "    .dataframe tbody tr th:only-of-type {\n",
              "        vertical-align: middle;\n",
              "    }\n",
              "\n",
              "    .dataframe tbody tr th {\n",
              "        vertical-align: top;\n",
              "    }\n",
              "\n",
              "    .dataframe thead th {\n",
              "        text-align: right;\n",
              "    }\n",
              "</style>\n",
              "<table border=\"1\" class=\"dataframe\">\n",
              "  <thead>\n",
              "    <tr style=\"text-align: right;\">\n",
              "      <th></th>\n",
              "      <th>Healthy</th>\n",
              "      <th>Not_Healthy</th>\n",
              "    </tr>\n",
              "  </thead>\n",
              "  <tbody>\n",
              "    <tr>\n",
              "      <th>hypertensive</th>\n",
              "      <td>0.7454</td>\n",
              "      <td>0.6000</td>\n",
              "    </tr>\n",
              "    <tr>\n",
              "      <th>atrialfibrillation</th>\n",
              "      <td>0.3532</td>\n",
              "      <td>0.4667</td>\n",
              "    </tr>\n",
              "    <tr>\n",
              "      <th>diabetes</th>\n",
              "      <td>0.5229</td>\n",
              "      <td>0.3333</td>\n",
              "    </tr>\n",
              "    <tr>\n",
              "      <th>depression</th>\n",
              "      <td>0.1628</td>\n",
              "      <td>0.0000</td>\n",
              "    </tr>\n",
              "    <tr>\n",
              "      <th>Hyperlipemia</th>\n",
              "      <td>0.4771</td>\n",
              "      <td>0.1333</td>\n",
              "    </tr>\n",
              "    <tr>\n",
              "      <th>Renal failure</th>\n",
              "      <td>0.4748</td>\n",
              "      <td>0.1333</td>\n",
              "    </tr>\n",
              "    <tr>\n",
              "      <th>COPD</th>\n",
              "      <td>0.0665</td>\n",
              "      <td>0.0667</td>\n",
              "    </tr>\n",
              "    <tr>\n",
              "      <th>deficiencyanemias</th>\n",
              "      <td>0.4197</td>\n",
              "      <td>0.2000</td>\n",
              "    </tr>\n",
              "  </tbody>\n",
              "</table>\n",
              "</div>"
            ],
            "text/plain": [
              "                    Healthy  Not_Healthy\n",
              "hypertensive         0.7454       0.6000\n",
              "atrialfibrillation   0.3532       0.4667\n",
              "diabetes             0.5229       0.3333\n",
              "depression           0.1628       0.0000\n",
              "Hyperlipemia         0.4771       0.1333\n",
              "Renal failure        0.4748       0.1333\n",
              "COPD                 0.0665       0.0667\n",
              "deficiencyanemias    0.4197       0.2000"
            ]
          },
          "metadata": {},
          "execution_count": 11
        }
      ]
    },
    {
      "cell_type": "code",
      "metadata": {
        "id": "koTl7rrYerU8",
        "outputId": "96432b42-e7d5-4204-fde2-2e124b518552",
        "colab": {
          "base_uri": "https://localhost:8080/",
          "height": 355
        }
      },
      "source": [
        "fig, ax = plt.subplots(figsize=(8, 5))\n",
        "sns.scatterplot(x=healthy[\"BMI\"], y=healthy[\"age\"], color=\"blue\", ax=ax, label=\"Healthy\")\n",
        "sns.scatterplot(x=not_healthy[\"BMI\"], y=not_healthy[\"age\"], color=\"orange\", ax=ax, label=\"Not Healthy\")\n",
        "ax.set_xlabel(\"BMI\", size=12)\n",
        "ax.set_ylabel(\"Age\", size=12)\n",
        "ax.set_title(\"BMI and Age for Healthy and Non-Healthy people\", size=15)\n",
        "ax.legend()\n",
        "plt.show()"
      ],
      "execution_count": 12,
      "outputs": [
        {
          "output_type": "display_data",
          "data": {
            "image/png": "[encoded data removed]",
            "text/plain": [
              "<Figure size 576x360 with 1 Axes>"
            ]
          },
          "metadata": {
            "needs_background": "light"
          }
        }
      ]
    }
  ]
}