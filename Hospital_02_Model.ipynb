{
  "nbformat": 4,
  "nbformat_minor": 0,
  "metadata": {
    "colab": {
      "name": "Hospital_02_Model.ipynb",
      "provenance": [],
      "authorship_tag": "ABX9TyM1pnwGGKFS5aP7Yy8SAkUY",
      "include_colab_link": true
    },
    "kernelspec": {
      "name": "python3",
      "display_name": "Python 3"
    },
    "language_info": {
      "name": "python"
    }
  },
  "cells": [
    {
      "cell_type": "markdown",
      "metadata": {
        "id": "view-in-github",
        "colab_type": "text"
      },
      "source": [
        "<a href=\"https://colab.research.google.com/github/yashveersinghsohi/Hospital_Mortality_Prediction/blob/master/Hospital_02_Model.ipynb\" target=\"_parent\"><img src=\"https://colab.research.google.com/assets/colab-badge.svg\" alt=\"Open In Colab\"/></a>"
      ]
    },
    {
      "cell_type": "markdown",
      "metadata": {
        "id": "BlC8E1_GUiY7"
      },
      "source": [
        "# Importing Required Packages"
      ]
    },
    {
      "cell_type": "code",
      "metadata": {
        "id": "5VT1H9MBUgX9"
      },
      "source": [
        "import pandas as pd\n",
        "import numpy as np\n",
        "import matplotlib.pyplot as plt\n",
        "import seaborn as sns\n",
        "\n",
        "from sklearn.linear_model import LogisticRegression\n",
        "from sklearn.tree import DecisionTreeClassifier"
      ],
      "execution_count": null,
      "outputs": []
    },
    {
      "cell_type": "markdown",
      "metadata": {
        "id": "Gwn4IigOUwlX"
      },
      "source": [
        "# Reading datasets"
      ]
    },
    {
      "cell_type": "code",
      "metadata": {
        "id": "9ljasI5nUx_b"
      },
      "source": [
        "root_dir_path = \"https://raw.githubusercontent.com/yashveersinghsohi/Hospital_Mortality_Prediction/master/Data/\"\n",
        "\n",
        "data_path = root_dir_path + \"data.csv\"\n",
        "train_path = root_dir_path + \"train.csv\"\n",
        "val_path = root_dir_path + \"val.csv\"\n",
        "test_path = root_dir_path + \"test.csv\"\n",
        "\n",
        "train_features_path = root_dir_path + \"train_features.csv\"\n",
        "train_targets_path = root_dir_path + \"train_targets.csv\"\n",
        "\n",
        "val_features_path = root_dir_path + \"val_features.csv\"\n",
        "val_targets_path = root_dir_path + \"val_targets.csv\"\n",
        "\n",
        "test_features_path = root_dir_path + \"test_features.csv\"\n",
        "test_targets_path = root_dir_path + \"test_targets.csv\""
      ],
      "execution_count": null,
      "outputs": []
    },
    {
      "cell_type": "code",
      "metadata": {
        "id": "ZgMQtlOvVDjz"
      },
      "source": [
        "data = pd.read_csv(data_path)\n",
        "train = pd.read_csv(train_path)\n",
        "val = pd.read_csv(val_path)\n",
        "test = pd.read_csv(test_path)\n",
        "\n",
        "train_features = pd.read_csv(train_features_path)\n",
        "train_targets = pd.read_csv(train_targets_path)\n",
        "\n",
        "val_features = pd.read_csv(val_features_path)\n",
        "val_targets = pd.read_csv(val_targets_path)\n",
        "\n",
        "test_features = pd.read_csv(test_features_path)\n",
        "test_targets = pd.read_csv(test_targets_path)"
      ],
      "execution_count": null,
      "outputs": []
    },
    {
      "cell_type": "code",
      "metadata": {
        "id": "UsD_k5_1VQnu"
      },
      "source": [
        "print(\"Train features shape - \", train_features.shape)\n",
        "print(\"Train Targets shape - \", train_targets.shape, end=\"\\n\\n\")\n",
        "\n",
        "print(\"Val features shape - \", val_features.shape)\n",
        "print(\"Val Targets shape - \", val_targets.shape, end=\"\\n\\n\")\n",
        "\n",
        "print(\"Test features shape - \", test_features.shape)\n",
        "print(\"Test Targets shape - \", test_targets.shape)"
      ],
      "execution_count": null,
      "outputs": []
    }
  ]
}