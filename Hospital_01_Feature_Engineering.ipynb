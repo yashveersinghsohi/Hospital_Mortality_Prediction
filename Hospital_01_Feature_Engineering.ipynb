{
  "nbformat": 4,
  "nbformat_minor": 0,
  "metadata": {
    "colab": {
      "name": "Hospital_01_Feature_Engineering.ipynb",
      "provenance": [],
      "authorship_tag": "ABX9TyPwxuAAjDQSD8nyZuPIZXA6",
      "include_colab_link": true
    },
    "kernelspec": {
      "name": "python3",
      "display_name": "Python 3"
    },
    "language_info": {
      "name": "python"
    }
  },
  "cells": [
    {
      "cell_type": "markdown",
      "metadata": {
        "id": "view-in-github",
        "colab_type": "text"
      },
      "source": [
        "<a href=\"https://colab.research.google.com/github/yashveersinghsohi/Hospital_Mortality_Prediction/blob/master/Hospital_01_Feature_Engineering.ipynb\" target=\"_parent\"><img src=\"https://colab.research.google.com/assets/colab-badge.svg\" alt=\"Open In Colab\"/></a>"
      ]
    },
    {
      "cell_type": "markdown",
      "metadata": {
        "id": "cpQ64YrZBwj1"
      },
      "source": [
        "# Importing Required Packages"
      ]
    },
    {
      "cell_type": "code",
      "metadata": {
        "id": "zlCOEYnKBswF"
      },
      "source": [
        "import pandas as pd\n",
        "import numpy as np\n",
        "import matplotlib.pyplot as plt\n",
        "import seaborn as sns"
      ],
      "execution_count": null,
      "outputs": []
    },
    {
      "cell_type": "markdown",
      "metadata": {
        "id": "NyzAPKAoB4SZ"
      },
      "source": [
        "# Reading data files"
      ]
    },
    {
      "cell_type": "code",
      "metadata": {
        "id": "28w0S0pcB5lS"
      },
      "source": [
        "root_dir_path = \"https://raw.githubusercontent.com/yashveersinghsohi/Hospital_Mortality_Prediction/master/Data/\"\n",
        "data_path = root_dir_path + \"data.csv\"\n",
        "train_path = root_dir_path + \"train.csv\"\n",
        "val_path = root_dir_path + \"val.csv\"\n",
        "test_path = root_dir_path + \"test.csv\""
      ],
      "execution_count": null,
      "outputs": []
    },
    {
      "cell_type": "code",
      "metadata": {
        "id": "X5Kf9UqcCL9n"
      },
      "source": [
        "data = pd.read_csv(data_path)\n",
        "train = pd.read_csv(train_path)\n",
        "val = pd.read_csv(val_path)\n",
        "test = pd.read_csv(test_path)"
      ],
      "execution_count": null,
      "outputs": []
    }
  ]
}